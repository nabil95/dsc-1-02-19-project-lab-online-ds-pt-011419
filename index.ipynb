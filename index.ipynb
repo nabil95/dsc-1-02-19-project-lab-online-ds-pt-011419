{
 "cells": [
  {
   "cell_type": "markdown",
   "metadata": {},
   "source": [
    "# Project - Building a Calculator\n",
    "\n",
    "\n",
    "## Introduction \n",
    "\n",
    "In this project, you'll create a simple calculator which can perform basic arithmetic operations like addition, subtraction, multiplication or division depending upon the user input.\n",
    "\n",
    "## Objectives\n",
    "\n",
    "You will be able to:\n",
    "\n",
    "* Perform operations on various data types \n",
    "* Use loops to perform iteration \n",
    "* Use conditionals to make programming decisions\n",
    "* Define and use functions \n",
    "* Ingest and parse user input "
   ]
  },
  {
   "cell_type": "markdown",
   "metadata": {},
   "source": [
    "## Approach \n",
    "\n",
    "* User choose the desired operation. Options 1, 2, 3, 4 are valid options for operations.  \n",
    "* Two numbers are taken and an `if…elif…else` branching is used to execute a particular section.\n",
    "\n",
    "* Using functions `add()`, `subtract()`, `multiply()` and `divide()` evaluate respective operations.\n",
    "\n",
    "* The code should handle exceptions and must return **\"invalid input*** when an unexpected character is given in the input (anything other than 1 - 4)."
   ]
  },
  {
   "cell_type": "markdown",
   "metadata": {},
   "source": [
    "### Example Interface\n",
    "Here is the interface you are expected to build. Don't worry if it is not 100% exactly as what is shown. Focus more on the getting the logic correct at this stage. \n",
    "\n",
    "```\n",
    "Please select an operation:\n",
    "1. Add\n",
    "2. Subtract\n",
    "3. Multiply\n",
    "4. Divide\n",
    "\n",
    "Select operations form 1, 2, 3, 4 : 1\n",
    "Enter first number : 20\n",
    "Enter second number : 13\n",
    "20 + 13 = 33\n",
    "```"
   ]
  },
  {
   "cell_type": "markdown",
   "metadata": {},
   "source": [
    "### Creating Arithmatic Functions\n",
    "\n",
    "We shall create four functions, one for each arithmatic operation which will perform the required operation and resturn the resulting value as shown below:"
   ]
  },
  {
   "cell_type": "code",
   "execution_count": 1,
   "metadata": {},
   "outputs": [],
   "source": [
    "# Function to add two numbers \n",
    "def add(num1, num2):\n",
    "    #Perform the calculation\n",
    "    return num1 + num2"
   ]
  },
  {
   "cell_type": "code",
   "execution_count": 2,
   "metadata": {},
   "outputs": [],
   "source": [
    "# Function to subtract two numbers \n",
    "def subtract(num1, num2):\n",
    "    #Perform the calculation\n",
    "    return num1 - num2"
   ]
  },
  {
   "cell_type": "code",
   "execution_count": 3,
   "metadata": {},
   "outputs": [],
   "source": [
    "# Function to multiply two numbers\n",
    "def multiply(num1, num2):\n",
    "    #Perform the calculation\n",
    "    return num1 * num2"
   ]
  },
  {
   "cell_type": "code",
   "execution_count": 4,
   "metadata": {},
   "outputs": [],
   "source": [
    "# Function to divide two numbers\n",
    "def divide(num1, num2):\n",
    "    #Perform the calculation\n",
    "    return num1 / num2"
   ]
  },
  {
   "cell_type": "markdown",
   "metadata": {},
   "source": [
    "### Create a Command-line User Interface\n",
    "We shall now write the main program body to take user input and call the relevent function"
   ]
  },
  {
   "cell_type": "code",
   "execution_count": 5,
   "metadata": {},
   "outputs": [
    {
     "name": "stdout",
     "output_type": "stream",
     "text": [
      "Please choose an operation: 1. Add 2. Subtract 3. Multiply 4. Divide\n",
      "Enter choice of operation (enter number 1-4 only): 2\n",
      "Enter first number: 3\n",
      "Enter second number: 5\n",
      "Thanks. 3 - 5 = -2 \n"
     ]
    }
   ],
   "source": [
    "# Print user menu \n",
    "print(\"Please choose an operation: 1. Add 2. Subtract 3. Multiply 4. Divide\")\n",
    "\n",
    "# Take input from the user for operation , followed by numbers. \n",
    "operation = input(\"Enter choice of operation (enter number 1-4 only): \")\n",
    "num1 = int(input(\"Enter first number: \"))\n",
    "num2 = int(input(\"Enter second number: \"))\n",
    "# Based on operation, pass the two numbers to respective function\n",
    "if operation == '1':\n",
    "    symbol = '+'\n",
    "    result = add(num1, num2)\n",
    "elif operation == '2':\n",
    "    symbol = '-'\n",
    "    result = subtract(num1, num2)\n",
    "elif operation == '3':\n",
    "    symbol = 'x'\n",
    "    result = multiply(num1, num2)\n",
    "elif operation == '4':\n",
    "    symbol = '/'\n",
    "    result = divide(num1, num2)\n",
    "\n",
    "if (operation == '1' or operation == '2' or operation == '3' or operation == '4'):\n",
    "    print(f\"Thanks. {num1} {symbol} {num2} = {result} \")\n",
    "else:\n",
    "    print(\"Invalid input\")\n",
    "    \n",
    "# Print the output in a nice manner\n",
    "\n",
    "# Print \"Invalid input\" if an unexpected character is seen in input\n",
    "\n",
    "\n",
    "# Expected output    \n",
    "\n",
    "# Please select operation -\n",
    "# 1. Add\n",
    "# 2. Subtract\n",
    "# 3. Multiply\n",
    "# 4. Divide\n",
    "\n",
    "# Select operations form 1, 2, 3, 4 :1\n",
    "# Enter first number: 2\n",
    "# Enter second number: 3\n",
    "# 2 + 3 = 5"
   ]
  },
  {
   "cell_type": "markdown",
   "metadata": {},
   "source": [
    "## Bring in the While loop\n",
    "\n",
    "We can see how the logic set by using if-else statements, along with functions can be used to control the flow of the program in an easy way. Let's add more functionality to our calculator as below:\n",
    "\n",
    ">Lets try to make it a bit more interesting by introducing the behaviour of a real calculator so our users can choose to either continue with calculationa OR exit the system. Users gets this functionality by pressing `y` for yes and `n` for no towards continuation.\n",
    "\n",
    "### Example Interface\n",
    "\n",
    "**Notice `continue: y/n` at the bottom of interface.**\n",
    "\n",
    "```\n",
    "Please select an operation:\n",
    "1. Add\n",
    "2. Subtract\n",
    "3. Multiply\n",
    "4. Divide\n",
    "\n",
    "Select operations form 1, 2, 3, 4 : 1\n",
    "Enter first number : 20\n",
    "Enter second number : 13\n",
    "20 + 13 = 33\n",
    "\n",
    "Continue: y/n\n",
    "```\n",
    "\n",
    "Let's work towards implementing iteration into the equation and enclose above I/O interface inside a while loops."
   ]
  },
  {
   "cell_type": "code",
   "execution_count": 6,
   "metadata": {},
   "outputs": [
    {
     "name": "stdout",
     "output_type": "stream",
     "text": [
      "Please choose an operation: 1. Add 2. Subtract 3. Multiply 4. Divide\n",
      "Enter choice of operation (enter number 1-4 only): 2\n",
      "Enter first number: 4\n",
      "Enter second number: 2\n",
      "Thanks. 4 - 2 = 2 \n",
      "Continue? Enter y/ny\n",
      "Please choose an operation: 1. Add 2. Subtract 3. Multiply 4. Divide\n",
      "Enter choice of operation (enter number 1-4 only): 1\n",
      "Enter first number: 1\n",
      "Enter second number: 1\n",
      "Thanks. 1 + 1 = 2 \n",
      "Continue? Enter y/ny\n",
      "Please choose an operation: 1. Add 2. Subtract 3. Multiply 4. Divide\n",
      "Enter choice of operation (enter number 1-4 only): 6\n",
      "Enter first number: 2\n",
      "Enter second number: 2\n",
      "NOT A VALID OPERATION SELECTION\n",
      "Thanks. 2 + 2 = 2 \n",
      "Continue? Enter y/ny\n",
      "Please choose an operation: 1. Add 2. Subtract 3. Multiply 4. Divide\n",
      "Enter choice of operation (enter number 1-4 only): 1\n",
      "Enter first number: 1\n",
      "Enter second number: a\n"
     ]
    },
    {
     "ename": "ValueError",
     "evalue": "invalid literal for int() with base 10: 'a'",
     "output_type": "error",
     "traceback": [
      "\u001b[1;31m---------------------------------------------------------------------------\u001b[0m",
      "\u001b[1;31mValueError\u001b[0m                                Traceback (most recent call last)",
      "\u001b[1;32m<ipython-input-6-87326b7d12aa>\u001b[0m in \u001b[0;36m<module>\u001b[1;34m()\u001b[0m\n\u001b[0;32m     13\u001b[0m     \u001b[1;32mif\u001b[0m \u001b[1;32mnot\u001b[0m\u001b[1;33m(\u001b[0m\u001b[0moperation\u001b[0m \u001b[1;33m==\u001b[0m \u001b[1;34m'1'\u001b[0m \u001b[1;32mor\u001b[0m \u001b[0moperation\u001b[0m \u001b[1;33m==\u001b[0m \u001b[1;34m'2'\u001b[0m \u001b[1;32mor\u001b[0m \u001b[0moperation\u001b[0m \u001b[1;33m==\u001b[0m \u001b[1;34m'3'\u001b[0m \u001b[1;32mor\u001b[0m \u001b[0moperation\u001b[0m \u001b[1;33m==\u001b[0m \u001b[1;34m'4'\u001b[0m\u001b[1;33m)\u001b[0m\u001b[1;33m:\u001b[0m\u001b[1;33m\u001b[0m\u001b[0m\n\u001b[0;32m     14\u001b[0m         \u001b[0mprint\u001b[0m\u001b[1;33m(\u001b[0m\u001b[1;34m\"NOT A VALID OPERATION SELECTION\"\u001b[0m\u001b[1;33m)\u001b[0m\u001b[1;33m\u001b[0m\u001b[0m\n\u001b[1;32m---> 15\u001b[1;33m     \u001b[1;32melif\u001b[0m \u001b[1;33m(\u001b[0m\u001b[0mtype\u001b[0m\u001b[1;33m(\u001b[0m\u001b[0mint\u001b[0m\u001b[1;33m(\u001b[0m\u001b[0mnum1\u001b[0m\u001b[1;33m)\u001b[0m\u001b[1;33m)\u001b[0m \u001b[1;33m!=\u001b[0m \u001b[0mint\u001b[0m \u001b[1;32mor\u001b[0m \u001b[0mtype\u001b[0m\u001b[1;33m(\u001b[0m\u001b[0mfloat\u001b[0m\u001b[1;33m(\u001b[0m\u001b[0mnum1\u001b[0m\u001b[1;33m)\u001b[0m\u001b[1;33m)\u001b[0m \u001b[1;33m!=\u001b[0m \u001b[0mfloat\u001b[0m\u001b[1;33m)\u001b[0m \u001b[1;32mor\u001b[0m \u001b[1;33m(\u001b[0m\u001b[0mtype\u001b[0m\u001b[1;33m(\u001b[0m\u001b[0mint\u001b[0m\u001b[1;33m(\u001b[0m\u001b[0mnum2\u001b[0m\u001b[1;33m)\u001b[0m\u001b[1;33m)\u001b[0m \u001b[1;33m!=\u001b[0m \u001b[0mint\u001b[0m \u001b[1;32mor\u001b[0m \u001b[0mtype\u001b[0m\u001b[1;33m(\u001b[0m\u001b[0mfloat\u001b[0m\u001b[1;33m(\u001b[0m\u001b[0mnum2\u001b[0m\u001b[1;33m)\u001b[0m\u001b[1;33m)\u001b[0m \u001b[1;33m!=\u001b[0m \u001b[0mfloat\u001b[0m\u001b[1;33m)\u001b[0m\u001b[1;33m:\u001b[0m\u001b[1;33m\u001b[0m\u001b[0m\n\u001b[0m\u001b[0;32m     16\u001b[0m         \u001b[0mprint\u001b[0m\u001b[1;33m(\u001b[0m\u001b[1;34m\"Invalid number input\"\u001b[0m\u001b[1;33m)\u001b[0m\u001b[1;33m\u001b[0m\u001b[0m\n\u001b[0;32m     17\u001b[0m     \u001b[1;32melse\u001b[0m\u001b[1;33m:\u001b[0m\u001b[1;33m\u001b[0m\u001b[0m\n",
      "\u001b[1;31mValueError\u001b[0m: invalid literal for int() with base 10: 'a'"
     ]
    }
   ],
   "source": [
    "# Initialize the code with cont (continue) flag set to yes (y)\n",
    "continue_flag = 'y'\n",
    "# Check for user input after each iteration of the code in a while loop\n",
    "while continue_flag == 'y':\n",
    "    # Print user menu \n",
    "    print(\"Please choose an operation: 1. Add 2. Subtract 3. Multiply 4. Divide\")\n",
    "\n",
    "    # Take input from the user for operation , followed by numbers. \n",
    "    operation = input(\"Enter choice of operation (enter number 1-4 only): \")\n",
    "    num1 = input(\"Enter first number: \")\n",
    "    num2 = input(\"Enter second number: \")\n",
    "    \n",
    "    if not(operation == '1' or operation == '2' or operation == '3' or operation == '4'):\n",
    "        print(\"NOT A VALID OPERATION SELECTION\")\n",
    "    elif (type(int(num1)) != int or type(float(num1)) != float) or (type(int(num2)) != int or type(float(num2)) != float):\n",
    "        print(\"Invalid number input\")\n",
    "    else:\n",
    "        num1 = int(num1)\n",
    "        num2 = int(num2)\n",
    "   \n",
    "    # Based on operation, pass the two numbers to respective function\n",
    "    if operation == '1':\n",
    "        symbol = '+'\n",
    "        result = add(num1, num2)\n",
    "    elif operation == '2':\n",
    "        symbol = '-'\n",
    "        result = subtract(num1, num2)\n",
    "    elif operation == '3':\n",
    "        symbol = 'x'\n",
    "        result = multiply(num1, num2)\n",
    "    elif operation == '4':\n",
    "        symbol = '/'\n",
    "        result = divide(num1, num2)\n",
    "\n",
    "    print(f\"Thanks. {num1} {symbol} {num2} = {result} \")\n",
    "    continue_flag = input(\"Continue? Enter y/n\")\n",
    "\n",
    "\n",
    "        # Enclose the I/O  code block inside the while loop\n",
    "        \n",
    "\n",
    "\n",
    "#Expected output format\n",
    "\n",
    "# Select operations form 1, 2, 3, 4 :4\n",
    "# Enter first number: 5\n",
    "# Enter second number: 4\n",
    "# Press d for division and m for modulo operatorm\n",
    "# 5 / 4 = 1\n",
    "# Continue? y/n:y\n",
    "# Select operations form 1, 2, 3, 4 :4\n",
    "# Enter first number: 5\n",
    "# Enter second number: 4\n",
    "# Press d for division and m for modulo operatord\n",
    "# 5 / 4 = 1.25"
   ]
  },
  {
   "cell_type": "markdown",
   "metadata": {},
   "source": [
    "## Level up (Optional)\n",
    "\n",
    "The while loop shown above allows the iteration through the code until a specific input from user i.e. `n` is noticed. Let's add some more functionality to this code by asking users about the type of division they are interested in, and this could be either normal division (as before) or a modulo operator (shows remainder).\n",
    "\n",
    ">Change the code in the division function so that if a user selects division operation, the code should ask the user if he/she wants a normal division `/` (int) or `//` (float) , or a module `%` operator which only returns the remainder of a division. The program should return an exception for any other inputs. "
   ]
  },
  {
   "cell_type": "code",
   "execution_count": 7,
   "metadata": {},
   "outputs": [],
   "source": [
    "def divide_v2(num1, num2):\n",
    "    #Perform the calculation\n",
    "    return None\n"
   ]
  },
  {
   "cell_type": "markdown",
   "metadata": {},
   "source": [
    "### Summary\n",
    "\n",
    "In this lab we saw how loops and conditions can be used to control the logic of a program execution based on user input. We started with building a simple calculator and incrementaly added more functionality to it by adding loops for iteration and further conditions allowing different type of calculations. We also practiced User I/O by taking choices from the users and dealing with exceptions (unexpected input). "
   ]
  }
 ],
 "metadata": {
  "kernelspec": {
   "display_name": "learn-env",
   "language": "python",
   "name": "learn-env"
  }
 },
 "nbformat": 4,
 "nbformat_minor": 2
}
